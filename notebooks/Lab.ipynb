{
 "cells": [
  {
   "cell_type": "code",
   "execution_count": 1,
   "id": "127d2d0b-6fb0-4f7f-9e06-ff599d8fce77",
   "metadata": {},
   "outputs": [],
   "source": [
    "import pandas as pd\n",
    "import matplotlib.pyplot as plt"
   ]
  },
  {
   "cell_type": "code",
   "execution_count": 2,
   "id": "f49f5dfd-2fcf-4594-acc5-8f3c62127245",
   "metadata": {},
   "outputs": [],
   "source": [
    "df = pd.read_csv(\"data/counts.csv\")\n",
    "df[\"name\"] = df[\"name\"].astype(\"string\")\n",
    "df[\"file\"] = df[\"file\"].astype(\"string\")"
   ]
  },
  {
   "cell_type": "code",
   "execution_count": 3,
   "id": "bea98e8c-5f56-4e3d-82d8-557123db25b1",
   "metadata": {},
   "outputs": [
    {
     "data": {
      "text/html": [
       "<div>\n",
       "<style scoped>\n",
       "    .dataframe tbody tr th:only-of-type {\n",
       "        vertical-align: middle;\n",
       "    }\n",
       "\n",
       "    .dataframe tbody tr th {\n",
       "        vertical-align: top;\n",
       "    }\n",
       "\n",
       "    .dataframe thead th {\n",
       "        text-align: right;\n",
       "    }\n",
       "</style>\n",
       "<table border=\"1\" class=\"dataframe\">\n",
       "  <thead>\n",
       "    <tr style=\"text-align: right;\">\n",
       "      <th></th>\n",
       "      <th>name</th>\n",
       "      <th>line</th>\n",
       "      <th>column</th>\n",
       "      <th>file</th>\n",
       "    </tr>\n",
       "  </thead>\n",
       "  <tbody>\n",
       "    <tr>\n",
       "      <th>0</th>\n",
       "      <td>sys</td>\n",
       "      <td>2</td>\n",
       "      <td>8</td>\n",
       "      <td>data/repos/BantEnjoer/First_Project/painter.py</td>\n",
       "    </tr>\n",
       "    <tr>\n",
       "      <th>1</th>\n",
       "      <td>random</td>\n",
       "      <td>2</td>\n",
       "      <td>13</td>\n",
       "      <td>data/repos/BantEnjoer/First_Project/painter.py</td>\n",
       "    </tr>\n",
       "    <tr>\n",
       "      <th>2</th>\n",
       "      <td>argparse</td>\n",
       "      <td>2</td>\n",
       "      <td>21</td>\n",
       "      <td>data/repos/BantEnjoer/First_Project/painter.py</td>\n",
       "    </tr>\n",
       "    <tr>\n",
       "      <th>3</th>\n",
       "      <td>numpy</td>\n",
       "      <td>3</td>\n",
       "      <td>8</td>\n",
       "      <td>data/repos/BantEnjoer/First_Project/painter.py</td>\n",
       "    </tr>\n",
       "    <tr>\n",
       "      <th>4</th>\n",
       "      <td>np</td>\n",
       "      <td>3</td>\n",
       "      <td>8</td>\n",
       "      <td>data/repos/BantEnjoer/First_Project/painter.py</td>\n",
       "    </tr>\n",
       "  </tbody>\n",
       "</table>\n",
       "</div>"
      ],
      "text/plain": [
       "       name  line  column                                            file\n",
       "0       sys     2       8  data/repos/BantEnjoer/First_Project/painter.py\n",
       "1    random     2      13  data/repos/BantEnjoer/First_Project/painter.py\n",
       "2  argparse     2      21  data/repos/BantEnjoer/First_Project/painter.py\n",
       "3     numpy     3       8  data/repos/BantEnjoer/First_Project/painter.py\n",
       "4        np     3       8  data/repos/BantEnjoer/First_Project/painter.py"
      ]
     },
     "execution_count": 3,
     "metadata": {},
     "output_type": "execute_result"
    }
   ],
   "source": [
    "df.head()"
   ]
  },
  {
   "cell_type": "code",
   "execution_count": 4,
   "id": "7ba2731c-4695-44f8-8902-7df31fb63263",
   "metadata": {},
   "outputs": [
    {
     "data": {
      "text/plain": [
       "name      string[python]\n",
       "line               int64\n",
       "column             int64\n",
       "file      string[python]\n",
       "dtype: object"
      ]
     },
     "execution_count": 4,
     "metadata": {},
     "output_type": "execute_result"
    }
   ],
   "source": [
    "df.dtypes"
   ]
  },
  {
   "cell_type": "markdown",
   "id": "91a89fec-3f8b-427b-9492-83396022941e",
   "metadata": {},
   "source": [
    "## Line investigation"
   ]
  },
  {
   "cell_type": "code",
   "execution_count": 5,
   "id": "7b9a2295-67ef-47f5-84a3-cd741c542847",
   "metadata": {},
   "outputs": [
    {
     "data": {
      "text/plain": [
       "Text(0.5, 1.0, 'Line boxplot')"
      ]
     },
     "execution_count": 5,
     "metadata": {},
     "output_type": "execute_result"
    },
    {
     "data": {
      "image/png": "[encoded data removed]",
      "text/plain": [
       "<Figure size 640x480 with 1 Axes>"
      ]
     },
     "metadata": {},
     "output_type": "display_data"
    }
   ],
   "source": [
    "df.boxplot(\"line\")\n",
    "plt.title(\"Line boxplot\")"
   ]
  },
  {
   "cell_type": "code",
   "execution_count": 6,
   "id": "35a59dbb-3607-445b-ab6d-05b143663e51",
   "metadata": {},
   "outputs": [
    {
     "data": {
      "text/plain": [
       "Text(0.5, 1.0, 'Line Histogram')"
      ]
     },
     "execution_count": 6,
     "metadata": {},
     "output_type": "execute_result"
    }
   ],
   "source": [
    "line = df[\"line\"]\n",
    "line.hist(bins=30)\n",
    "plt.xlabel(\"Line\")\n",
    "plt.ylabel(\"Count\")\n",
    "plt.title(\"Line Histogram\")"
   ]
  },
  {
   "cell_type": "code",
   "execution_count": 7,
   "id": "19541065-7dfa-4a3b-aadf-138ebe360abc",
   "metadata": {},
   "outputs": [
    {
     "data": {
      "text/plain": [
       "Text(0.5, 1.0, 'Line Histogram (stripped)')"
      ]
     },
     "execution_count": 7,
     "metadata": {},
     "output_type": "execute_result"
    }
   ],
   "source": [
    "line[line < line.quantile(0.75)].hist()\n",
    "plt.xlabel(\"Line\")\n",
    "plt.ylabel(\"Count\")\n",
    "plt.title(\"Line Histogram (stripped)\")"
   ]
  },
  {
   "cell_type": "markdown",
   "id": "00e4fa43-6421-45b7-8f6c-424924b5ddb3",
   "metadata": {},
   "source": [
    "## Column investigation"
   ]
  },
  {
   "cell_type": "code",
   "execution_count": 8,
   "id": "ea442fb9-d542-4a7e-b519-4e7bb1d27c86",
   "metadata": {},
   "outputs": [
    {
     "data": {
      "text/plain": [
       "Text(0.5, 1.0, 'Column boxplot')"
      ]
     },
     "execution_count": 8,
     "metadata": {},
     "output_type": "execute_result"
    }
   ],
   "source": [
    "df.boxplot(\"column\")\n",
    "plt.title(\"Column boxplot\")"
   ]
  },
  {
   "cell_type": "code",
   "execution_count": 9,
   "id": "5070babe-968c-49bc-b8ac-00eaa2c59150",
   "metadata": {},
   "outputs": [
    {
     "data": {
      "text/plain": [
       "Text(0.5, 1.0, 'Column Histogram')"
      ]
     },
     "execution_count": 9,
     "metadata": {},
     "output_type": "execute_result"
    }
   ],
   "source": [
    "column = df[\"column\"]\n",
    "column.hist(bins=30)\n",
    "plt.xlabel(\"Column\")\n",
    "plt.ylabel(\"Count\")\n",
    "plt.title(\"Column Histogram\")"
   ]
  },
  {
   "cell_type": "code",
   "execution_count": 10,
   "id": "8fa2f364-5adc-4e66-a237-5f277a0807e0",
   "metadata": {},
   "outputs": [
    {
     "data": {
      "text/plain": [
       "Text(0.5, 1.0, 'Column Histogram (stripped)')"
      ]
     },
     "execution_count": 10,
     "metadata": {},
     "output_type": "execute_result"
    }
   ],
   "source": [
    "column[column < column.quantile(0.75)].hist()\n",
    "plt.xlabel(\"Column\")\n",
    "plt.ylabel(\"Count\")\n",
    "plt.title(\"Column Histogram (stripped)\")"
   ]
  },
  {
   "cell_type": "markdown",
   "id": "4b45d604-0152-478d-aade-f77873c70fc0",
   "metadata": {},
   "source": [
    "## Name investigation"
   ]
  },
  {
   "cell_type": "code",
   "execution_count": 11,
   "id": "78dc2962-5b31-423e-b33f-0f071a263df7",
   "metadata": {},
   "outputs": [
    {
     "data": {
      "text/plain": [
       "<StringArray>\n",
       "[                  'sys',                'random',              'argparse',\n",
       "                 'numpy',                    'np',                  'math',\n",
       "                  'time',                   'PIL',                 'Image',\n",
       "                   'out',\n",
       " ...\n",
       " 'create_latex_document',           'delete_file',      'get_current_date',\n",
       "          'I_want_green',                'l_text',         'modified_text',\n",
       "                'office',               'section',            'subsection',\n",
       "              'document']\n",
       "Length: 4558, dtype: string"
      ]
     },
     "execution_count": 11,
     "metadata": {},
     "output_type": "execute_result"
    }
   ],
   "source": [
    "df[\"name\"].unique()"
   ]
  },
  {
   "cell_type": "code",
   "execution_count": 12,
   "id": "017a4fb9-a230-45a1-861a-6063a7d9e725",
   "metadata": {},
   "outputs": [],
   "source": [
    "name_len = df[\"name_len\"] = df[\"name\"].str.len()"
   ]
  },
  {
   "cell_type": "code",
   "execution_count": 13,
   "id": "7844b041-d9b3-4f8a-a4e5-0b4da71b81dd",
   "metadata": {},
   "outputs": [
    {
     "data": {
      "text/plain": [
       "<Axes: title={'center': 'Column Histogram (stripped)'}, xlabel='Column', ylabel='Count'>"
      ]
     },
     "execution_count": 13,
     "metadata": {},
     "output_type": "execute_result"
    }
   ],
   "source": [
    "df.boxplot(\"name_len\")"
   ]
  },
  {
   "cell_type": "code",
   "execution_count": 14,
   "id": "3d52e9c8-ec05-4a4f-9ddd-7366e9116c9d",
   "metadata": {},
   "outputs": [
    {
     "data": {
      "text/plain": [
       "<Axes: title={'center': 'Column Histogram (stripped)'}, xlabel='Column', ylabel='Count'>"
      ]
     },
     "execution_count": 14,
     "metadata": {},
     "output_type": "execute_result"
    }
   ],
   "source": [
    "name_len.hist(bins=30)"
   ]
  },
  {
   "cell_type": "code",
   "execution_count": 15,
   "id": "9ea0ae93-5ddb-4793-92df-2421274db94a",
   "metadata": {},
   "outputs": [
    {
     "data": {
      "text/plain": [
       "<Axes: title={'center': 'Column Histogram (stripped)'}, xlabel='Column', ylabel='Count'>"
      ]
     },
     "execution_count": 15,
     "metadata": {},
     "output_type": "execute_result"
    }
   ],
   "source": [
    "name_len[name_len < 10].hist()"
   ]
  },
  {
   "cell_type": "code",
   "execution_count": 16,
   "id": "84a0454c-59a2-4a38-a325-44971f973998",
   "metadata": {},
   "outputs": [
    {
     "data": {
      "text/html": [
       "<div>\n",
       "<style scoped>\n",
       "    .dataframe tbody tr th:only-of-type {\n",
       "        vertical-align: middle;\n",
       "    }\n",
       "\n",
       "    .dataframe tbody tr th {\n",
       "        vertical-align: top;\n",
       "    }\n",
       "\n",
       "    .dataframe thead th {\n",
       "        text-align: right;\n",
       "    }\n",
       "</style>\n",
       "<table border=\"1\" class=\"dataframe\">\n",
       "  <thead>\n",
       "    <tr style=\"text-align: right;\">\n",
       "      <th></th>\n",
       "      <th>name</th>\n",
       "      <th>line</th>\n",
       "      <th>column</th>\n",
       "      <th>file</th>\n",
       "      <th>name_len</th>\n",
       "    </tr>\n",
       "  </thead>\n",
       "  <tbody>\n",
       "    <tr>\n",
       "      <th>18255</th>\n",
       "      <td>update_available_blocks_for_creating_ships</td>\n",
       "      <td>77</td>\n",
       "      <td>5</td>\n",
       "      <td>data/repos/Plyyn/Project_2/Project_2/ships.py</td>\n",
       "      <td>42</td>\n",
       "    </tr>\n",
       "    <tr>\n",
       "      <th>18299</th>\n",
       "      <td>update_available_blocks_for_creating_ships</td>\n",
       "      <td>97</td>\n",
       "      <td>21</td>\n",
       "      <td>data/repos/Plyyn/Project_2/Project_2/ships.py</td>\n",
       "      <td>42</td>\n",
       "    </tr>\n",
       "  </tbody>\n",
       "</table>\n",
       "</div>"
      ],
      "text/plain": [
       "                                             name  line  column  \\\n",
       "18255  update_available_blocks_for_creating_ships    77       5   \n",
       "18299  update_available_blocks_for_creating_ships    97      21   \n",
       "\n",
       "                                                file  name_len  \n",
       "18255  data/repos/Plyyn/Project_2/Project_2/ships.py        42  \n",
       "18299  data/repos/Plyyn/Project_2/Project_2/ships.py        42  "
      ]
     },
     "execution_count": 16,
     "metadata": {},
     "output_type": "execute_result"
    }
   ],
   "source": [
    "df[name_len > 40]"
   ]
  },
  {
   "cell_type": "code",
   "execution_count": null,
   "id": "5be23d83-5664-412d-9223-d0fb2a0e0136",
   "metadata": {},
   "outputs": [],
   "source": []
  }
 ],
 "metadata": {
  "kernelspec": {
   "display_name": "Python 3 (ipykernel)",
   "language": "python",
   "name": "python3"
  },
  "language_info": {
   "codemirror_mode": {
    "name": "ipython",
    "version": 3
   },
   "file_extension": ".py",
   "mimetype": "text/x-python",
   "name": "python",
   "nbconvert_exporter": "python",
   "pygments_lexer": "ipython3",
   "version": "3.13.0"
  }
 },
 "nbformat": 4,
 "nbformat_minor": 5
}
